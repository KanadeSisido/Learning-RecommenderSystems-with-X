{
  "nbformat": 4,
  "nbformat_minor": 0,
  "metadata": {
    "colab": {
      "provenance": [],
      "authorship_tag": "ABX9TyP5VfR5CmW+Ojc0nt4nt32Q",
      "include_colab_link": true
    },
    "kernelspec": {
      "name": "python3",
      "display_name": "Python 3"
    },
    "language_info": {
      "name": "python"
    }
  },
  "cells": [
    {
      "cell_type": "markdown",
      "metadata": {
        "id": "view-in-github",
        "colab_type": "text"
      },
      "source": [
        "<a href=\"https://colab.research.google.com/github/KanadeSisido/Learning-RecommenderSystems-with-X/blob/main/Matrix_Factorization.ipynb\" target=\"_parent\"><img src=\"https://colab.research.google.com/assets/colab-badge.svg\" alt=\"Open In Colab\"/></a>"
      ]
    },
    {
      "cell_type": "markdown",
      "source": [
        "# Matrix Factorization\n",
        "\n",
        "Netflix Prizeで最も成果を上げた推薦アルゴリズム．\n",
        "その大枠の解説と再現を行う．"
      ],
      "metadata": {
        "id": "NNOfsanystG9"
      }
    },
    {
      "cell_type": "markdown",
      "source": [
        "## Matrix Factorization は何をしているのか\n",
        "\n",
        "MF(Matrix Factorization)では，以下のような行列の分解を考える．\n",
        "$$\n",
        "R = PQ^T\n",
        "$$\n",
        "$R$は，$(i,j)$成分にユーザ$p_i$がアイテム$q_j$に対して行った評価が書き込まれる．\n",
        "\n",
        "$P,Q$はそれぞれ$P = [\\hat p_0,\\hat p_1, \\cdots, \\hat p_n]$，$Q = [\\hat q_0, \\hat q_1, \\cdots, \\hat q_n]$といった具合に，ユーザ$p_i$がもつ潜在ベクトル$\\hat p_i$，アイテム$q_i$がもつ潜在ベクトル$\\hat q_i$を考え，それを並べた行列$P,Q$に分割することを考える．\n",
        "\n",
        "ここで，$p_i$はユーザ$p_i$と潜在特徴との関係，$q_i$はアイテム$q_i$と潜在特徴との関係を示している．すなわち，潜在特徴を基底に取ったベクトル空間の元である．\n",
        "\n",
        "ここで，ベクトルの内積$p_i \\cdot q_i$をとることは，同一のベクトル空間上でベクトル同士の親和性の高さを得ることに相当する．"
      ],
      "metadata": {
        "id": "8MYvoHXPwmUh"
      }
    },
    {
      "cell_type": "markdown",
      "source": [
        "## どうやって$P,Q$を得るのか\n",
        "\n",
        "$P,Q$の算出は以下の最小化問題に帰着できる．\n",
        "$$\n",
        "\\min_{P,Q} \\sum_{(i,j) \\in R}(R_{i,j} - p_i \\cdot q_i)^2 + \\lambda(\\| p_i \\|_{L2} + \\| q_i \\|_{L2})\n",
        "$$\n",
        "\n",
        "基本戦略としては，$P,Q$をランダムにとり，積を取った結果から，$L$との誤差を算出し，更新式に入力することで$P,Q$を学習する．\n",
        "\n",
        "$$\n",
        "\\delta_{i,j} = R_{i,j} - p_i \\cdot q_j\n",
        "$$\n",
        "更新後の値は以下の通り\n",
        "$$\n",
        "p_i= p_i + 2 \\alpha \\delta p_i \\\\\n",
        "q_i= q_i + 2 \\alpha \\delta q_i\n",
        "$$\n"
      ],
      "metadata": {
        "id": "zqPPQLIF4gV0"
      }
    },
    {
      "cell_type": "markdown",
      "source": [
        "## 実装\n",
        "\n",
        "$$\n",
        "P=\n",
        "\\left(\n",
        "\\begin{array}{rrr}\n",
        "p_1 & p_2 & \\cdots & p_n \\\\\n",
        "\\end{array}\n",
        "\\right)\n",
        "$$\n",
        "\n",
        "$$\n",
        "Q=\n",
        "\\left(\n",
        "\\begin{array}{rrr}\n",
        "q_1 & q_2 & \\cdots & q_n \\\\\n",
        "\\end{array}\n",
        "\\right)\n",
        "$$\n",
        "\n",
        "$$\n",
        "\\hat R = PQ^T\n",
        "$$\n"
      ],
      "metadata": {
        "id": "Kw5GBYigNhQA"
      }
    },
    {
      "cell_type": "code",
      "source": [
        "import numpy as np\n",
        "\n",
        "def delta(r, p, q):\n",
        "  return r - np.dot(p, q)\n",
        "\n",
        "def MF(R, k, step, alpha, beta, threshold):\n",
        "\n",
        "  P = np.random.rand(k, len(R[0]))\n",
        "  Q = np.random.rand(k, len(R))\n",
        ""
      ],
      "metadata": {
        "id": "8wUW2abZ9_yF"
      },
      "execution_count": null,
      "outputs": []
    },
    {
      "cell_type": "code",
      "execution_count": null,
      "metadata": {
        "id": "EyDLLqcdsi3O"
      },
      "outputs": [],
      "source": []
    },
    {
      "cell_type": "markdown",
      "source": [],
      "metadata": {
        "id": "FrTO23Qqs-yB"
      }
    }
  ]
}