{
  "cells": [
    {
      "cell_type": "markdown",
      "metadata": {
        "colab_type": "text",
        "id": "view-in-github"
      },
      "source": [
        "<a href=\"https://colab.research.google.com/github/KanadeSisido/Learning-RecommenderSystems-with-X/blob/main/Matrix_Factorization.ipynb\" target=\"_parent\"><img src=\"https://colab.research.google.com/assets/colab-badge.svg\" alt=\"Open In Colab\"/></a>"
      ]
    },
    {
      "cell_type": "markdown",
      "metadata": {
        "id": "NNOfsanystG9"
      },
      "source": [
        "# Matrix Factorization\n",
        "\n",
        "Netflix Prizeで最も成果を上げた推薦アルゴリズム．\n",
        "その大枠の解説と再現を行う．"
      ]
    },
    {
      "cell_type": "markdown",
      "metadata": {
        "id": "8MYvoHXPwmUh"
      },
      "source": [
        "## Matrix Factorization は何をしているのか\n",
        "\n",
        "MF(Matrix Factorization)では，以下のような行列の分解を考える．\n",
        "$$\n",
        "R = PQ^T\n",
        "$$\n",
        "$R$は，$(i,j)$成分にユーザ$p_i$がアイテム$q_j$に対して行った評価が書き込まれる．\n",
        "\n",
        "$P,Q$はそれぞれ$P = [\\hat p_0,\\hat p_1, \\cdots, \\hat p_n]$，$Q = [\\hat q_0, \\hat q_1, \\cdots, \\hat q_n]$といった具合に，ユーザ$p_i$がもつ潜在ベクトル$\\hat p_i$，アイテム$q_i$がもつ潜在ベクトル$\\hat q_i$を考え，それを並べた行列$P,Q$に分割することを考える．\n",
        "\n",
        "ここで，$p_i$はユーザ$p_i$と潜在特徴との関係，$q_i$はアイテム$q_i$と潜在特徴との関係を示している．すなわち，潜在特徴を基底に取ったベクトル空間の元である．\n",
        "\n",
        "ここで，ベクトルの内積$p_i \\cdot q_i$をとることは，同一のベクトル空間上でベクトル同士の親和性の高さを得ることに相当する．"
      ]
    },
    {
      "cell_type": "markdown",
      "metadata": {
        "id": "zqPPQLIF4gV0"
      },
      "source": [
        "## どうやって$P,Q$を得るのか\n",
        "\n",
        "$P,Q$の算出は以下の最小化問題に帰着できる．\n",
        "$$\n",
        "\\min_{P,Q} \\sum_{(i,j) \\in R}(R_{i,j} - p_i \\cdot q_i)^2 + \\lambda(\\| p_i \\|_{L2}^2 + \\| q_i \\|_{L2}^2)\n",
        "$$\n",
        "\n",
        "基本戦略としては，$P,Q$をランダムにとり，積を取った結果から，$L$との誤差を算出し，更新式に入力することで$P,Q$を学習する．\n",
        "\n",
        "$$\n",
        "\\delta_{i,j} = R_{i,j} - p_i \\cdot q_j\n",
        "$$\n",
        "更新後の値は以下の通り\n",
        "$$\n",
        "p_i= p_i + 2 \\alpha \\delta q_i \\\\\n",
        "q_i= q_i + 2 \\alpha \\delta p_i\n",
        "$$\n"
      ]
    },
    {
      "cell_type": "markdown",
      "metadata": {
        "id": "Kw5GBYigNhQA"
      },
      "source": [
        "## 実装\n",
        "\n",
        "$$\n",
        "P=\n",
        "\\left(\n",
        "\\begin{array}{rrr}\n",
        "p_1 & p_2 & \\cdots & p_n \\\\\n",
        "\\end{array}\n",
        "\\right)\n",
        "$$\n",
        "\n",
        "$$\n",
        "Q=\n",
        "\\left(\n",
        "\\begin{array}{rrr}\n",
        "q_1 & q_2 & \\cdots & q_n \\\\\n",
        "\\end{array}\n",
        "\\right)\n",
        "$$\n",
        "\n",
        "$$\n",
        "\\hat R = PQ^T\n",
        "$$\n",
        "\n",
        "更新式ちょっと変えてみた（コード参照）"
      ]
    },
    {
      "cell_type": "code",
      "execution_count": 51,
      "metadata": {
        "id": "8wUW2abZ9_yF"
      },
      "outputs": [
        {
          "name": "stdout",
          "output_type": "stream",
          "text": [
            "[[1.60245888 1.64363267 1.63031852 1.77088604 1.56751282]\n",
            " [1.22591048 0.89249827 0.9958355  2.20533856 1.12903698]\n",
            " [1.08794134 0.83402896 0.85360345 1.27758317 0.57199407]\n",
            " [1.47071831 1.05086241 1.14751669 2.16374893 1.02540996]]\n",
            "count :  0 \tErr :  33.31153766438655\n",
            "count :  10 \tErr :  0.4381241682616663\n",
            "count :  20 \tErr :  0.009941946929742365\n",
            "count :  30 \tErr :  0.0003404365912820631\n",
            "count :  40 \tErr :  1.943474036305886e-05\n",
            "count :  50 \tErr :  1.6820862427343429e-06\n",
            "count :  60 \tErr :  1.5420611710208936e-07\n",
            "count :  70 \tErr :  1.3233327491986992e-08\n",
            "count :  80 \tErr :  1.1038138735402451e-09\n",
            "count :  90 \tErr :  9.307446804697184e-11\n",
            "[[5.00000108 0.99999948 5.00000008 2.99999941 2.00000096]\n",
            " [3.00000036 2.5690675  1.99999969 1.99999913 3.99999957]\n",
            " [3.00000215 4.9999992  2.53325884 0.9999998  5.00000072]\n",
            " [2.         0.66083326 2.00000012 2.99999965 0.99999941]]\n"
          ]
        }
      ],
      "source": [
        "import numpy as np\n",
        "\n",
        "def delta(r: float, p, q):\n",
        "  return r - np.dot(p, q)\n",
        "\n",
        "def totalError(R, P, Q, lam):\n",
        "  [n, m] = R.shape\n",
        "\n",
        "  err = 0\n",
        "\n",
        "  for i in range(n):\n",
        "    for j in range(m):\n",
        "      if R[i][j] == 0:\n",
        "        continue\n",
        "      err += delta(R[i][j], P[i], Q[j]) ** 2\n",
        "  \n",
        "  return err\n",
        "\n",
        "def MF(R, k, maxStep, alpha, lam):\n",
        "\n",
        "  [n, m] = R.shape\n",
        "\n",
        "  P = np.random.rand(n, k)\n",
        "  Q = np.random.rand(m, k)\n",
        "\n",
        "  print(np.dot(P, Q.T))\n",
        "  \n",
        "  for count in range(maxStep):\n",
        "    for i in range(n):\n",
        "      for j in range(m):\n",
        "\n",
        "        if R[i][j] == 0:\n",
        "          continue\n",
        "\n",
        "        d = delta(R[i][j], P[i], Q[j])\n",
        "        Pn = P[i] + alpha * 2 * d * (Q[j] - lam * P[i])\n",
        "        Qn = Q[j] + alpha * 2 * d * (P[i] - lam * Q[j])\n",
        "\n",
        "        P[i] = Pn\n",
        "        Q[j] = Qn\n",
        "\n",
        "    err = totalError(R, P, Q, lam)\n",
        "\n",
        "    if count % 10 == 0:\n",
        "      print(\"count : \", count , \"\\tErr : \", err)\n",
        "  \n",
        "  return P, Q\n",
        "\n",
        "a = np.array(\n",
        "  [\n",
        "    [5,1,5,3,2],\n",
        "    [3,0,2,2,4],\n",
        "    [3,5,0,1,5],\n",
        "    [2,0,2,3,1],\n",
        "  ]\n",
        ")\n",
        "\n",
        "P, Q = MF(a, 5, 100, 0.1, 0.02)\n",
        "\n",
        "print(np.dot(P, Q.T))\n"
      ]
    },
    {
      "cell_type": "code",
      "execution_count": null,
      "metadata": {
        "id": "EyDLLqcdsi3O"
      },
      "outputs": [
        {
          "name": "stdout",
          "output_type": "stream",
          "text": [
            "hello\n"
          ]
        }
      ],
      "source": []
    },
    {
      "cell_type": "markdown",
      "metadata": {
        "id": "FrTO23Qqs-yB"
      },
      "source": []
    }
  ],
  "metadata": {
    "colab": {
      "authorship_tag": "ABX9TyP5VfR5CmW+Ojc0nt4nt32Q",
      "include_colab_link": true,
      "provenance": []
    },
    "kernelspec": {
      "display_name": "Python 3",
      "name": "python3"
    },
    "language_info": {
      "codemirror_mode": {
        "name": "ipython",
        "version": 3
      },
      "file_extension": ".py",
      "mimetype": "text/x-python",
      "name": "python",
      "nbconvert_exporter": "python",
      "pygments_lexer": "ipython3",
      "version": "3.12.4"
    }
  },
  "nbformat": 4,
  "nbformat_minor": 0
}
