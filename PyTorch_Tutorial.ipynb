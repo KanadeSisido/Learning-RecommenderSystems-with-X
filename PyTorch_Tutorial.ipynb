{
  "nbformat": 4,
  "nbformat_minor": 0,
  "metadata": {
    "colab": {
      "provenance": [],
      "gpuType": "T4",
      "authorship_tag": "ABX9TyN9bJN7Wy5MTUjj8JI2xGpH",
      "include_colab_link": true
    },
    "kernelspec": {
      "name": "python3",
      "display_name": "Python 3"
    },
    "language_info": {
      "name": "python"
    },
    "accelerator": "GPU"
  },
  "cells": [
    {
      "cell_type": "markdown",
      "metadata": {
        "id": "view-in-github",
        "colab_type": "text"
      },
      "source": [
        "<a href=\"https://colab.research.google.com/github/KanadeSisido/Learning-RecommenderSystems-with-X/blob/main/PyTorch_Tutorial.ipynb\" target=\"_parent\"><img src=\"https://colab.research.google.com/assets/colab-badge.svg\" alt=\"Open In Colab\"/></a>"
      ]
    },
    {
      "cell_type": "markdown",
      "source": [
        "# PyTorch Quick Start\n",
        "https://docs.pytorch.org/tutorials/beginner/basics/quickstart_tutorial.html"
      ],
      "metadata": {
        "id": "tdcFeqj88h0d"
      }
    },
    {
      "cell_type": "markdown",
      "source": [
        "### 依存関係のimport"
      ],
      "metadata": {
        "id": "P-MdJEDbQPrU"
      }
    },
    {
      "cell_type": "code",
      "execution_count": null,
      "metadata": {
        "id": "vImk7i-4HAGX"
      },
      "outputs": [],
      "source": [
        "import torch\n",
        "from torch import nn\n",
        "from torch.utils.data import DataLoader\n",
        "from torchvision import datasets\n",
        "from torchvision.transforms import ToTensor\n"
      ]
    },
    {
      "cell_type": "markdown",
      "source": [
        "### データセットの読み込み"
      ],
      "metadata": {
        "id": "y7YVJHY3QYp7"
      }
    },
    {
      "cell_type": "markdown",
      "source": [
        "#### datasets.FashionMNISTの引数\n",
        "- root：取得したデータを保存するパス，dataディレクトリに保存する．\n",
        "- train：Trueの場合は学習用データをとってくる，Falseの場合はテスト用データを取ってくる．すでに分けられている．\n",
        "- transform：前処理の設定\n",
        "- download：データをダウンロードするか．rootで保存したパスに保存する．"
      ],
      "metadata": {
        "id": "r1D6AxxVTzjR"
      }
    },
    {
      "cell_type": "code",
      "source": [
        "training_data = datasets.FashionMNIST(\n",
        "    root=\"data\",\n",
        "    train=True,\n",
        "    download=True,\n",
        "    transform=ToTensor()\n",
        ")\n",
        "\n",
        "test_data = datasets.FashionMNIST(\n",
        "    root=\"data\",\n",
        "    train=False,\n",
        "    download=True,\n",
        "    transform=ToTensor()\n",
        ")\n"
      ],
      "metadata": {
        "id": "QQVuAWWVHj4U"
      },
      "execution_count": null,
      "outputs": []
    },
    {
      "cell_type": "markdown",
      "source": [
        "### データローダの作成"
      ],
      "metadata": {
        "id": "SCTanNugQfqm"
      }
    },
    {
      "cell_type": "code",
      "source": [
        "batch_size = 64\n",
        "\n",
        "train_dataloader = DataLoader(training_data, batch_size=batch_size)\n",
        "test_dataloader = DataLoader(test_data, batch_size=batch_size)\n",
        "\n",
        "for X, y in test_dataloader:\n",
        "    print(f\"Shape of X [N, C, H, W]: {X.shape}\")\n",
        "    print(f\"Shape of y: {y.shape} {y.dtype}\")\n",
        "    break"
      ],
      "metadata": {
        "colab": {
          "base_uri": "https://localhost:8080/"
        },
        "id": "AVCEkHIeJRhH",
        "outputId": "db2ae9f9-c955-4e12-e915-f7acec73cb24"
      },
      "execution_count": null,
      "outputs": [
        {
          "output_type": "stream",
          "name": "stdout",
          "text": [
            "Shape of X [N, C, H, W]: torch.Size([64, 1, 28, 28])\n",
            "Shape of y: torch.Size([64]) torch.int64\n"
          ]
        }
      ]
    },
    {
      "cell_type": "markdown",
      "source": [
        "データローダを観察する"
      ],
      "metadata": {
        "id": "rTP8ucTIS8PJ"
      }
    },
    {
      "cell_type": "markdown",
      "source": [
        "データローダは，ミニバッチの作成などで用いられる．DataLoaderのインスタンス化時に指定したbatch_size個だけ，学習データをピックアップする．呼ばれると（おそらく）ランダムにピックアップされる．"
      ],
      "metadata": {
        "id": "sSXNqGyq1GpK"
      }
    },
    {
      "cell_type": "code",
      "source": [
        "for X, y in train_dataloader:\n",
        "  print(X)\n",
        "  break"
      ],
      "metadata": {
        "colab": {
          "base_uri": "https://localhost:8080/"
        },
        "collapsed": true,
        "id": "cUMRm-aW11Ha",
        "outputId": "4aac834f-3386-476a-d5fd-9fec411a8c73"
      },
      "execution_count": null,
      "outputs": [
        {
          "output_type": "stream",
          "name": "stdout",
          "text": [
            "tensor([[[[0., 0., 0.,  ..., 0., 0., 0.],\n",
            "          [0., 0., 0.,  ..., 0., 0., 0.],\n",
            "          [0., 0., 0.,  ..., 0., 0., 0.],\n",
            "          ...,\n",
            "          [0., 0., 0.,  ..., 0., 0., 0.],\n",
            "          [0., 0., 0.,  ..., 0., 0., 0.],\n",
            "          [0., 0., 0.,  ..., 0., 0., 0.]]],\n",
            "\n",
            "\n",
            "        [[[0., 0., 0.,  ..., 0., 0., 0.],\n",
            "          [0., 0., 0.,  ..., 0., 0., 0.],\n",
            "          [0., 0., 0.,  ..., 0., 0., 0.],\n",
            "          ...,\n",
            "          [0., 0., 0.,  ..., 0., 0., 0.],\n",
            "          [0., 0., 0.,  ..., 0., 0., 0.],\n",
            "          [0., 0., 0.,  ..., 0., 0., 0.]]],\n",
            "\n",
            "\n",
            "        [[[0., 0., 0.,  ..., 0., 0., 0.],\n",
            "          [0., 0., 0.,  ..., 0., 0., 0.],\n",
            "          [0., 0., 0.,  ..., 0., 0., 0.],\n",
            "          ...,\n",
            "          [0., 0., 0.,  ..., 0., 0., 0.],\n",
            "          [0., 0., 0.,  ..., 0., 0., 0.],\n",
            "          [0., 0., 0.,  ..., 0., 0., 0.]]],\n",
            "\n",
            "\n",
            "        ...,\n",
            "\n",
            "\n",
            "        [[[0., 0., 0.,  ..., 0., 0., 0.],\n",
            "          [0., 0., 0.,  ..., 0., 0., 0.],\n",
            "          [0., 0., 0.,  ..., 0., 0., 0.],\n",
            "          ...,\n",
            "          [0., 0., 0.,  ..., 0., 0., 0.],\n",
            "          [0., 0., 0.,  ..., 0., 0., 0.],\n",
            "          [0., 0., 0.,  ..., 0., 0., 0.]]],\n",
            "\n",
            "\n",
            "        [[[0., 0., 0.,  ..., 0., 0., 0.],\n",
            "          [0., 0., 0.,  ..., 0., 0., 0.],\n",
            "          [0., 0., 0.,  ..., 0., 0., 0.],\n",
            "          ...,\n",
            "          [0., 0., 0.,  ..., 0., 0., 0.],\n",
            "          [0., 0., 0.,  ..., 0., 0., 0.],\n",
            "          [0., 0., 0.,  ..., 0., 0., 0.]]],\n",
            "\n",
            "\n",
            "        [[[0., 0., 0.,  ..., 0., 0., 0.],\n",
            "          [0., 0., 0.,  ..., 0., 0., 0.],\n",
            "          [0., 0., 0.,  ..., 0., 0., 0.],\n",
            "          ...,\n",
            "          [0., 0., 0.,  ..., 0., 0., 0.],\n",
            "          [0., 0., 0.,  ..., 0., 0., 0.],\n",
            "          [0., 0., 0.,  ..., 0., 0., 0.]]]])\n"
          ]
        }
      ]
    },
    {
      "cell_type": "code",
      "source": [
        "print(len(train_dataloader))\n",
        "print(len(test_dataloader))"
      ],
      "metadata": {
        "colab": {
          "base_uri": "https://localhost:8080/"
        },
        "id": "RrCtpgsIS7hF",
        "outputId": "37c16fd7-1fa5-41c6-e482-ea0f7cbcfbab"
      },
      "execution_count": null,
      "outputs": [
        {
          "output_type": "stream",
          "name": "stdout",
          "text": [
            "938\n",
            "157\n"
          ]
        }
      ]
    },
    {
      "cell_type": "markdown",
      "source": [
        "### ニューラルネットワークの作成"
      ],
      "metadata": {
        "id": "2lohkOFaQ39N"
      }
    },
    {
      "cell_type": "markdown",
      "source": [
        "#### 概要\n",
        "ニューラルネットワークの構成は単純で，`nn.Module`を継承したクラスを作成する．\n",
        "\n",
        "`self.linear_relu_stack`は高階関数`nn.Sequential`が返す関数であることに注意．\n",
        "\n",
        "`forward`関数内では，入力テンソル`x`を`self.flatten`でフラットなベクトルにし，`self.linear_relu_stack`で順伝播している．\n",
        "\n",
        "#### 補足説明\n",
        "\n",
        "`nn.Sequential`内の設定は，以下のコードでは，次のように言える．\n",
        "\n",
        "入力層`nn.Linear(28 * 28, 512)`　：　28×28の行列をフラットにしたサイズを受取り，512次元で出力する全結合層．活性化関数にReLUを使う．\n",
        "\n",
        "隠れ層　：　512次元で受取り，512次元で出力する．`nn.Linear(512, 512)`\n",
        "\n",
        "出力層　：　`nn.Linear(512, 10)`であるが，512次元で受け取って，10クラスで出力する．"
      ],
      "metadata": {
        "id": "Nl8oT4mD2GW6"
      }
    },
    {
      "cell_type": "code",
      "source": [
        "device = torch.accelerator.current_accelerator().type if torch.accelerator.is_available() else \"cpu\"\n",
        "print(f\"Using {device} device\")\n",
        "\n",
        "class NeuralNetwork(nn.Module):\n",
        "  def __init__(self):\n",
        "    super().__init__()\n",
        "    self.flatten = nn.Flatten()\n",
        "    self.linear_relu_stack = nn.Sequential(\n",
        "        nn.Linear(28 * 28, 512),\n",
        "        nn.ReLU(),\n",
        "        nn.Linear(512, 512),\n",
        "        nn.ReLU(),\n",
        "        nn.Linear(512, 10),\n",
        "    )\n",
        "\n",
        "  def forward(self, x):\n",
        "    x = self.flatten(x)\n",
        "    logits = self.linear_relu_stack(x)\n",
        "    return logits\n",
        "\n",
        "model = NeuralNetwork().to(device)\n",
        "print(model)"
      ],
      "metadata": {
        "colab": {
          "base_uri": "https://localhost:8080/"
        },
        "id": "J3233qrcMhmB",
        "outputId": "25c187fe-35e8-468c-f134-5f53f90726f8"
      },
      "execution_count": null,
      "outputs": [
        {
          "output_type": "stream",
          "name": "stdout",
          "text": [
            "Using cuda device\n",
            "NeuralNetwork(\n",
            "  (flatten): Flatten(start_dim=1, end_dim=-1)\n",
            "  (linear_relu_stack): Sequential(\n",
            "    (0): Linear(in_features=784, out_features=512, bias=True)\n",
            "    (1): ReLU()\n",
            "    (2): Linear(in_features=512, out_features=512, bias=True)\n",
            "    (3): ReLU()\n",
            "    (4): Linear(in_features=512, out_features=10, bias=True)\n",
            "  )\n",
            ")\n"
          ]
        }
      ]
    },
    {
      "cell_type": "markdown",
      "source": [
        "### 損失関数，オプティマイザの作成"
      ],
      "metadata": {
        "id": "VtL1JiT0Q9eo"
      }
    },
    {
      "cell_type": "markdown",
      "source": [
        "交差エントロピー損失関数，\n",
        "確率的勾配降下法"
      ],
      "metadata": {
        "id": "XjyFvtlA6tH6"
      }
    },
    {
      "cell_type": "code",
      "source": [
        "loss_fn = nn.CrossEntropyLoss()\n",
        "optimizer = torch.optim.SGD(model.parameters(), lr=1e-3)"
      ],
      "metadata": {
        "id": "fuMVIA4hOSay"
      },
      "execution_count": null,
      "outputs": []
    },
    {
      "cell_type": "markdown",
      "source": [
        "### train関数\n"
      ],
      "metadata": {
        "id": "vNJyuxpaRFX_"
      }
    },
    {
      "cell_type": "markdown",
      "source": [
        "`model.train`関数は，モデルが学習中であることをモデルに伝える．これにより，DropOutなどのレイヤを学習に適した挙動に変える．\n",
        "\n",
        "参照：https://stackoverflow.com/questions/51433378/what-does-model-train-do-in-pytorch\n"
      ],
      "metadata": {
        "id": "tT5036_N794d"
      }
    },
    {
      "cell_type": "code",
      "source": [
        "def train(dataloader, model, loss_fn, optimizer):\n",
        "  size = len(dataloader.dataset)\n",
        "  model.train()\n",
        "\n",
        "  for batch, (X, y) in enumerate(dataloader):\n",
        "    X,y = X.to(device), y.to(device)\n",
        "\n",
        "    pred = model(X) # 推論する\n",
        "    loss = loss_fn(pred, y) # 誤差を取得する\n",
        "\n",
        "    loss.backward() # 勾配を計算する\n",
        "    optimizer.step() # パラメータ更新\n",
        "    optimizer.zero_grad() # 勾配をクリアする\n",
        "\n",
        "    if batch % 100 == 0:\n",
        "      loss, current = loss.item(), (batch+1) * len(X)\n",
        "      print(f\"loss: {loss:>7f} [{current:>5d}/{size:>5d}]\")"
      ],
      "metadata": {
        "id": "ie6wxwe6P4Xr"
      },
      "execution_count": null,
      "outputs": []
    },
    {
      "cell_type": "markdown",
      "source": [
        "### test関数"
      ],
      "metadata": {
        "id": "K4HCObS2TgMK"
      }
    },
    {
      "cell_type": "code",
      "source": [
        "def test(dataloader, model, loss_fn):\n",
        "  size = len(dataloader.dataset)\n",
        "  num_batches = len(dataloader)\n",
        "  model.eval()\n",
        "  test_loss, correct = 0, 0\n",
        "\n",
        "  with torch.no_grad():\n",
        "    for X, y in dataloader:\n",
        "      X, y = X.to(device), y.to(device) # バッチサイズだけデータをピックアップして取得\n",
        "      pred = model(X)\n",
        "      test_loss += loss_fn(pred, y).item()\n",
        "      correct += (pred.argmax(1) == y).type(torch.float).sum().item() # 要素数10の各クラスの確率×バッチサイズ\n",
        "  test_loss /= num_batches\n",
        "  correct /= size\n",
        "\n",
        "  print(f\"Test Error: \\n Accuracy: {(100*correct):>0.1f}%, Avg loss: {test_loss:>8f} \\n\")"
      ],
      "metadata": {
        "id": "TTL0QDgDUUeh"
      },
      "execution_count": null,
      "outputs": []
    },
    {
      "cell_type": "markdown",
      "source": [
        "## 学習実行\n"
      ],
      "metadata": {
        "id": "PzCHO5KSowjq"
      }
    },
    {
      "cell_type": "code",
      "source": [
        "epochs = 5\n",
        "\n",
        "for t in range(epochs):\n",
        "    print(f\"Epoch {t+1}\\n-------------------------------\")\n",
        "    train(train_dataloader, model, loss_fn, optimizer)\n",
        "    test(test_dataloader,model, loss_fn)"
      ],
      "metadata": {
        "colab": {
          "base_uri": "https://localhost:8080/"
        },
        "id": "hkk7O5wFc61J",
        "outputId": "34e897d6-b920-425e-8b44-6c2ea5fb37a2"
      },
      "execution_count": null,
      "outputs": [
        {
          "output_type": "stream",
          "name": "stdout",
          "text": [
            "Epoch 1\n",
            "-------------------------------\n",
            "loss: 2.302627 [   64/60000]\n",
            "loss: 2.288445 [ 6464/60000]\n",
            "loss: 2.276178 [12864/60000]\n",
            "loss: 2.272741 [19264/60000]\n",
            "loss: 2.261664 [25664/60000]\n",
            "loss: 2.226735 [32064/60000]\n",
            "loss: 2.244447 [38464/60000]\n",
            "loss: 2.207868 [44864/60000]\n",
            "loss: 2.200129 [51264/60000]\n",
            "loss: 2.177512 [57664/60000]\n",
            "Test Error: \n",
            " Accuracy: 34.3%, Avg loss: 2.166847 \n",
            "\n",
            "Epoch 2\n",
            "-------------------------------\n",
            "loss: 2.179189 [   64/60000]\n",
            "loss: 2.161803 [ 6464/60000]\n",
            "loss: 2.114512 [12864/60000]\n",
            "loss: 2.129176 [19264/60000]\n",
            "loss: 2.091918 [25664/60000]\n",
            "loss: 2.023762 [32064/60000]\n",
            "loss: 2.061544 [38464/60000]\n",
            "loss: 1.982727 [44864/60000]\n",
            "loss: 1.983951 [51264/60000]\n",
            "loss: 1.922925 [57664/60000]\n",
            "Test Error: \n",
            " Accuracy: 49.9%, Avg loss: 1.915762 \n",
            "\n",
            "Epoch 3\n",
            "-------------------------------\n",
            "loss: 1.947694 [   64/60000]\n",
            "loss: 1.908507 [ 6464/60000]\n",
            "loss: 1.806904 [12864/60000]\n",
            "loss: 1.846931 [19264/60000]\n",
            "loss: 1.753255 [25664/60000]\n",
            "loss: 1.689466 [32064/60000]\n",
            "loss: 1.722314 [38464/60000]\n",
            "loss: 1.625416 [44864/60000]\n",
            "loss: 1.646956 [51264/60000]\n",
            "loss: 1.551903 [57664/60000]\n",
            "Test Error: \n",
            " Accuracy: 57.9%, Avg loss: 1.562823 \n",
            "\n",
            "Epoch 4\n",
            "-------------------------------\n",
            "loss: 1.627925 [   64/60000]\n",
            "loss: 1.582294 [ 6464/60000]\n",
            "loss: 1.448647 [12864/60000]\n",
            "loss: 1.516777 [19264/60000]\n",
            "loss: 1.418810 [25664/60000]\n",
            "loss: 1.395689 [32064/60000]\n",
            "loss: 1.414430 [38464/60000]\n",
            "loss: 1.344155 [44864/60000]\n",
            "loss: 1.371229 [51264/60000]\n",
            "loss: 1.280930 [57664/60000]\n",
            "Test Error: \n",
            " Accuracy: 62.4%, Avg loss: 1.298231 \n",
            "\n",
            "Epoch 5\n",
            "-------------------------------\n",
            "loss: 1.376850 [   64/60000]\n",
            "loss: 1.345974 [ 6464/60000]\n",
            "loss: 1.194764 [12864/60000]\n",
            "loss: 1.291631 [19264/60000]\n",
            "loss: 1.189871 [25664/60000]\n",
            "loss: 1.198488 [32064/60000]\n",
            "loss: 1.215362 [38464/60000]\n",
            "loss: 1.161083 [44864/60000]\n",
            "loss: 1.191744 [51264/60000]\n",
            "loss: 1.113410 [57664/60000]\n",
            "Test Error: \n",
            " Accuracy: 64.3%, Avg loss: 1.125843 \n",
            "\n"
          ]
        }
      ]
    },
    {
      "cell_type": "markdown",
      "source": [
        "## モデルを保存する"
      ],
      "metadata": {
        "id": "MlY21n4opC85"
      }
    },
    {
      "cell_type": "code",
      "source": [
        "torch.save(model.state_dict(), \"model.pth\")"
      ],
      "metadata": {
        "id": "XlUU-H85pHlc"
      },
      "execution_count": null,
      "outputs": []
    },
    {
      "cell_type": "markdown",
      "source": [
        "## モデルを読み込む"
      ],
      "metadata": {
        "id": "znjTwaz7vKM_"
      }
    },
    {
      "cell_type": "code",
      "source": [
        "model = NeuralNetwork().to(device)\n",
        "model.load_state_dict(torch.load(\"model.pth\", weights_only=True))"
      ],
      "metadata": {
        "colab": {
          "base_uri": "https://localhost:8080/"
        },
        "id": "-WIiD3WtvOLE",
        "outputId": "7bbf9966-b2e3-4f12-dd05-fccbc2340211"
      },
      "execution_count": null,
      "outputs": [
        {
          "output_type": "execute_result",
          "data": {
            "text/plain": [
              "<All keys matched successfully>"
            ]
          },
          "metadata": {},
          "execution_count": 39
        }
      ]
    },
    {
      "cell_type": "markdown",
      "source": [
        "## 推論する"
      ],
      "metadata": {
        "id": "Q4Q4_CIKwL33"
      }
    },
    {
      "cell_type": "code",
      "source": [
        "classes = [\n",
        "    \"T-shirt/top\",\n",
        "    \"Trouser\",\n",
        "    \"Pullover\",\n",
        "    \"Dress\",\n",
        "    \"Coat\",\n",
        "    \"Sandal\",\n",
        "    \"Shirt\",\n",
        "    \"Sneaker\",\n",
        "    \"Bag\",\n",
        "    \"Ankle boot\",\n",
        "]"
      ],
      "metadata": {
        "id": "N85istNOwUI0"
      },
      "execution_count": null,
      "outputs": []
    },
    {
      "cell_type": "code",
      "source": [
        "model.eval()\n",
        "\n",
        "x, y = test_data[0][0], test_data[0][1]\n",
        "\n",
        "with torch.no_grad():\n",
        "  x = x.to(device)\n",
        "  pred = model(x)\n",
        "  predicted, actual = classes[pred[0].argmax(0)], classes[y]\n",
        "  print(f'Predicted: \"{predicted}\", Actual: \"{actual}\"')"
      ],
      "metadata": {
        "colab": {
          "base_uri": "https://localhost:8080/"
        },
        "id": "i7e7YIPUymGN",
        "outputId": "6599e508-82ab-454e-f1ad-42afa62066ff"
      },
      "execution_count": null,
      "outputs": [
        {
          "output_type": "stream",
          "name": "stdout",
          "text": [
            "Predicted: \"Ankle boot\", Actual: \"Ankle boot\"\n"
          ]
        }
      ]
    }
  ]
}